{
 "cells": [
  {
   "cell_type": "code",
   "execution_count": 1,
   "id": "3e9dfcd8-3d71-4b4a-bb3b-e6d536fdb857",
   "metadata": {},
   "outputs": [
    {
     "data": {
      "text/html": [
       "\n",
       "        <div>\n",
       "            <p><b>SparkContext</b></p>\n",
       "\n",
       "            <p><a href=\"http://VandanaPallavi:4042\">Spark UI</a></p>\n",
       "\n",
       "            <dl>\n",
       "              <dt>Version</dt>\n",
       "                <dd><code>v4.0.1</code></dd>\n",
       "              <dt>Master</dt>\n",
       "                <dd><code>local[*]</code></dd>\n",
       "              <dt>AppName</dt>\n",
       "                <dd><code>PySparkShell</code></dd>\n",
       "            </dl>\n",
       "        </div>\n",
       "        "
      ],
      "text/plain": [
       "<SparkContext master=local[*] appName=PySparkShell>"
      ]
     },
     "execution_count": 1,
     "metadata": {},
     "output_type": "execute_result"
    }
   ],
   "source": [
    "sc"
   ]
  },
  {
   "cell_type": "markdown",
   "id": "ca00a8f0-adae-4f37-8d1e-58ba61adf342",
   "metadata": {},
   "source": [
    "**Perform simple data transformation like filtering even\n",
    "numbers from a given list using PySpark RDD**"
   ]
  },
  {
   "cell_type": "code",
   "execution_count": 2,
   "id": "3362f218-9cf5-4894-9acb-8b23ec6c98af",
   "metadata": {},
   "outputs": [],
   "source": [
    "# from pyspark import SparkContext\n",
    "import random\n",
    "# Step 1: Initialize SparkContext\n",
    "# sc = SparkContext(\"local\", \"EvenNumberFilter\")"
   ]
  },
  {
   "cell_type": "code",
   "execution_count": 3,
   "id": "894adbac-198e-4a07-aff9-22a482d09d79",
   "metadata": {},
   "outputs": [
    {
     "name": "stdout",
     "output_type": "stream",
     "text": [
      "Original List:\n",
      "[787, 361, 978, 756, 101, 39, 761, 282, 235, 755, 920, 216, 415, 388, 596, 604, 920, 252, 243, 56, 763, 438, 434, 639, 25, 167, 141, 360, 826, 517, 617, 492, 60, 461, 549, 875, 322, 613, 885, 12, 732, 221, 558, 323, 310, 174, 81, 933, 266, 471, 312, 425, 273, 34, 663, 617, 860, 208, 979, 426, 314, 704, 131, 714, 951, 494, 644, 197, 428, 615, 717, 658, 356, 828, 149, 267, 121, 593, 917, 275, 623, 756, 663, 502, 539, 508, 750, 861, 75, 292, 955, 631, 112, 295, 281, 872, 214, 377, 925, 263]\n"
     ]
    }
   ],
   "source": [
    "# Step 2: Generate 100 random integers between 1 and 1000\n",
    "random_numbers = [random.randint(1, 1000) for _ in range(100)]\n",
    "print(\"Original List:\")\n",
    "print(random_numbers)"
   ]
  },
  {
   "cell_type": "code",
   "execution_count": 4,
   "id": "4b00c93f-a691-4f70-ad2d-e57c0f432667",
   "metadata": {},
   "outputs": [],
   "source": [
    "# Step 3: Parallelize the list into an RDD\n",
    "numbers_rdd = sc.parallelize(random_numbers)"
   ]
  },
  {
   "cell_type": "code",
   "execution_count": 5,
   "id": "91e95bb5-a4c0-4581-976b-399356c333ca",
   "metadata": {},
   "outputs": [],
   "source": [
    "# Step 4: Filter only even numbers\n",
    "even_numbers_rdd = numbers_rdd.filter(lambda x: x % 2 == 0)"
   ]
  },
  {
   "cell_type": "code",
   "execution_count": null,
   "id": "458169e2-dc33-4109-9c58-b444240959b6",
   "metadata": {},
   "outputs": [],
   "source": [
    "# Step 5: Collect results\n",
    "even_numbers = even_numbers_rdd.collect()\n",
    "print(\"\\nEven Numbers:\")\n",
    "print(even_numbers)"
   ]
  },
  {
   "cell_type": "code",
   "execution_count": null,
   "id": "d27dfbd7-e169-48c9-9ac0-bb381f7101d1",
   "metadata": {},
   "outputs": [],
   "source": [
    "# Stop SparkContext\n",
    "# sc.stop()"
   ]
  }
 ],
 "metadata": {
  "kernelspec": {
   "display_name": "Python 3 (ipykernel)",
   "language": "python",
   "name": "python3"
  },
  "language_info": {
   "codemirror_mode": {
    "name": "ipython",
    "version": 3
   },
   "file_extension": ".py",
   "mimetype": "text/x-python",
   "name": "python",
   "nbconvert_exporter": "python",
   "pygments_lexer": "ipython3",
   "version": "3.11.1"
  }
 },
 "nbformat": 4,
 "nbformat_minor": 5
}
